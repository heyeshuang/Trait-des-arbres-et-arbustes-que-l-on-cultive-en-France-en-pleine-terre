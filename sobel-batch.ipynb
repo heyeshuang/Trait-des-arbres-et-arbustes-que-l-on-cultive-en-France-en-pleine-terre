{
 "cells": [
  {
   "cell_type": "code",
   "execution_count": 22,
   "metadata": {
    "collapsed": true
   },
   "outputs": [],
   "source": [
    "%matplotlib notebook\n",
    "import numpy as np\n",
    "from scipy import ndimage as ndi\n",
    "import matplotlib.pyplot as plt\n",
    "from skimage import io as skio\n",
    "from skimage import color, filters\n",
    "from skimage.morphology import watershed"
   ]
  },
  {
   "cell_type": "code",
   "execution_count": 23,
   "metadata": {
    "collapsed": true
   },
   "outputs": [],
   "source": [
    "def bbox1(img):\n",
    "    a = np.where(img != 0)\n",
    "    bbox = np.min(a[0]), np.max(a[0]), np.min(a[1]), np.max(a[1])\n",
    "    return bbox"
   ]
  },
  {
   "cell_type": "code",
   "execution_count": 24,
   "metadata": {
    "inputHidden": false,
    "outputHidden": false
   },
   "outputs": [],
   "source": [
    "for i in range(502):\n",
    "    url = 'batch/France/'+str(i)+'.jpg'\n",
    "    # url = 'batch/A_curious_herbal/2.jpg'\n",
    "    img = skio.imread(url)\n",
    "\n",
    "    gray = color.rgb2gray(img)\n",
    "    sobel = filters.sobel(gray)\n",
    "\n",
    "    # from skimage import feature\n",
    "    # edges1 = feature.canny(gray)\n",
    "    # edges2 = feature.canny(gray, sigma=3)\n",
    "    # plt.figure()\n",
    "    # skio.imshow(edges1)\n",
    "    # plt.figure()\n",
    "    # skio.imshow(edges2)\n",
    "    # plt.imsave(\"t.jpg\",edges2,cmap=plt.cm.gray_r)\n",
    "\n",
    "    markers = np.zeros_like(gray)\n",
    "    markers[gray < 0.6] = 2 #黑色部分\n",
    "    markers[gray > 0.9] = 1 #白色部分\n",
    "\n",
    "    segmentation = watershed(sobel, markers) \n",
    "\n",
    "    img_alpha = np.dstack((img,(segmentation-1).astype(np.uint8)*255)) #加入alpha通道\n",
    "\n",
    "    ## 寻找面积最大的label\n",
    "    label_objects, nb_labels = ndi.label(segmentation-1) \n",
    "    sizes = np.bincount(label_objects.ravel())\n",
    "    sizes[0]=0 #去掉0号label（空白）\n",
    "    mask_sizes = sizes == max(sizes)\n",
    "    img2 = np.dstack((img,(mask_sizes[label_objects]).astype(np.uint8)*255)) #仅保留最大的部分\n",
    "    a,b,c,d=bbox1((mask_sizes[label_objects]).astype(np.uint8))\n",
    "    img3=img2[a:b+1,c:d+1] #切白边\n",
    "    skio.imsave(\"france/\"+str(i)+\".png\",img3)"
   ]
  }
 ],
 "metadata": {
  "kernel_info": {
   "name": "python3"
  },
  "kernelspec": {
   "display_name": "Python 3",
   "language": "python",
   "name": "python3"
  },
  "language_info": {
   "codemirror_mode": {
    "name": "ipython",
    "version": 3
   },
   "file_extension": ".py",
   "mimetype": "text/x-python",
   "name": "python",
   "nbconvert_exporter": "python",
   "pygments_lexer": "ipython3",
   "version": "3.6.2"
  },
  "nteract": {
   "version": "0.7.1"
  },
  "varInspector": {
   "cols": {
    "lenName": 16,
    "lenType": 16,
    "lenVar": 40
   },
   "kernels_config": {
    "python": {
     "delete_cmd_postfix": "",
     "delete_cmd_prefix": "del ",
     "library": "var_list.py",
     "varRefreshCmd": "print(var_dic_list())"
    },
    "r": {
     "delete_cmd_postfix": ") ",
     "delete_cmd_prefix": "rm(",
     "library": "var_list.r",
     "varRefreshCmd": "cat(var_dic_list()) "
    }
   },
   "types_to_exclude": [
    "module",
    "function",
    "builtin_function_or_method",
    "instance",
    "_Feature"
   ],
   "window_display": false
  }
 },
 "nbformat": 4,
 "nbformat_minor": 4
}
